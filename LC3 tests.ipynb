{
 "cells": [
  {
   "cell_type": "code",
   "execution_count": 1,
   "metadata": {
    "collapsed": false
   },
   "outputs": [
    {
     "name": "stdout",
     "output_type": "stream",
     "text": [
      "==================================================\n",
      "Memory dump:\n",
      "==================================================\n",
      "           x3000: x0000\n",
      "\n",
      "==================================================\n",
      "Registers:\n",
      "==================================================\n",
      "PC: x3001\n",
      "N: 0 Z: 1 P: 0 \n",
      "R0: x0000 R1: x0000 R2: x0000 R3: x0000 \n",
      "R4: x0000 R5: x0000 R6: x0000 R7: x0000 \n"
     ]
    }
   ],
   "source": [
    "0000"
   ]
  },
  {
   "cell_type": "code",
   "execution_count": 2,
   "metadata": {
    "collapsed": false
   },
   "outputs": [
    {
     "name": "stdout",
     "output_type": "stream",
     "text": [
      "==================================================\n",
      "Memory dump:\n",
      "==================================================\n",
      "           x3000: x0000\n",
      "           x3001: x0202\n",
      "\n",
      "==================================================\n",
      "Registers:\n",
      "==================================================\n",
      "PC: x3002\n",
      "N: 0 Z: 1 P: 0 \n",
      "R0: x0000 R1: x0000 R2: x0000 R3: x0000 \n",
      "R4: x0000 R5: x0000 R6: x0000 R7: x0000 \n"
     ]
    }
   ],
   "source": [
    "x0202"
   ]
  },
  {
   "cell_type": "code",
   "execution_count": 3,
   "metadata": {
    "collapsed": false
   },
   "outputs": [
    {
     "name": "stderr",
     "output_type": "stream",
     "text": [
      "\n",
      "Runtime error:\n",
      "    line 1:\n",
      "Attempting to execute NOOP at x3000\n",
      "\n"
     ]
    }
   ],
   "source": [
    "%exe"
   ]
  },
  {
   "cell_type": "code",
   "execution_count": 1,
   "metadata": {
    "collapsed": false
   },
   "outputs": [
    {
     "name": "stdout",
     "output_type": "stream",
     "text": [
      "============================================================\n",
      "Memory disassembled:\n",
      "============================================================\n",
      "           x3000: x2004  LD R0, NUM1                               [line: 1]\n",
      "           x3001: x2204  LD R1, NUM2                               [line: 2]\n",
      "           x3002: x1440  ADD R2, R1, R0                            [line: 3]\n",
      "           x3003: x3403  ST R2, SUM                                [line: 4]\n",
      "           x3004: xF025  HALT                                      [line: 5]\n",
      "NUM1:      x3005: x0004  BR x300A (or 4)                           [line: 6]\n",
      "NUM2:      x3006: x0005  BR x300C (or 5)                           [line: 7]\n",
      "SUM:       x3007: x0000  BR x3008 (or 0)                           [line: 8]\n",
      "\n",
      "============================================================\n",
      "Registers:\n",
      "============================================================\n",
      "PC: x3008\n",
      "N: 0 Z: 1 P: 0 \n",
      "R0: x0000 R1: x0000 R2: x0000 R3: x0000 \n",
      "R4: x0000 R5: x0000 R6: x0000 R7: x0000 \n"
     ]
    }
   ],
   "source": [
    ".ORIG x3000\n",
    "        LD R0, NUM1\n",
    "        LD R1, NUM2\n",
    "        ADD R2, R1, R0\n",
    "        ST R2, SUM\n",
    "        HALT\n",
    "NUM1:   .FILL x0004\n",
    "NUM2:   .FILL x0005\n",
    "SUM:    .BLKW 1\n",
    ".END"
   ]
  },
  {
   "cell_type": "code",
   "execution_count": 2,
   "metadata": {
    "collapsed": false
   },
   "outputs": [
    {
     "name": "stdout",
     "output_type": "stream",
     "text": [
      "============================================================\n",
      "Breakpoints\n",
      "============================================================\n",
      "    1)            x3002: x1440  ADD R2, R1, R0                            [line: 3]\n"
     ]
    }
   ],
   "source": [
    "%bp  x3002"
   ]
  },
  {
   "cell_type": "code",
   "execution_count": 3,
   "metadata": {
    "collapsed": false
   },
   "outputs": [
    {
     "name": "stdout",
     "output_type": "stream",
     "text": [
      "...breakpoint hit at x3002\n",
      "\n",
      "============================================================\n",
      "Registers:\n",
      "============================================================\n",
      "PC: x3002\n",
      "N: 0 Z: 0 P: 1 \n",
      "R0: x0004 R1: x0005 R2: x0000 R3: x0000 \n",
      "R4: x0000 R5: x0000 R6: x0000 R7: x0000 \n",
      "============================================================\n",
      "Computation SUSPENDED\n",
      "============================================================\n",
      "Instructions: 2\n",
      "Cycles: 20 (0.000010 milliseconds)\n"
     ]
    }
   ],
   "source": [
    "%exe"
   ]
  },
  {
   "cell_type": "code",
   "execution_count": 4,
   "metadata": {
    "collapsed": false
   },
   "outputs": [
    {
     "name": "stdout",
     "output_type": "stream",
     "text": [
      "============================================================\n",
      "Stepping...  => read, <= write, (Instructions/Cycles):\n",
      "============================================================\n",
      "    PC <= x3003\n",
      "(3/26) ADD R2, R1, R0 [3] (x3003*: x1440)\n",
      "    R2 <= x0009\n",
      "    NZP <= (0, 0, 1)\n",
      "\n",
      "============================================================\n",
      "Registers:\n",
      "============================================================\n",
      "PC: x3003\n",
      "N: 0 Z: 0 P: 1 \n",
      "R0: x0004 R1: x0005 R2: x0009 R3: x0000 \n",
      "R4: x0000 R5: x0000 R6: x0000 R7: x0000 \n"
     ]
    }
   ],
   "source": [
    "%step"
   ]
  },
  {
   "cell_type": "code",
   "execution_count": 5,
   "metadata": {
    "collapsed": false
   },
   "outputs": [
    {
     "name": "stdout",
     "output_type": "stream",
     "text": [
      "============================================================\n",
      "Stepping...  => read, <= write, (Instructions/Cycles):\n",
      "============================================================\n",
      "    PC <= x3004\n",
      "(4/35) ST R2, SUM [4] (x3004*: x3403)\n",
      "    memory[x3007] <= x0009\n",
      "\n",
      "============================================================\n",
      "Registers:\n",
      "============================================================\n",
      "PC: x3004\n",
      "N: 0 Z: 0 P: 1 \n",
      "R0: x0004 R1: x0005 R2: x0009 R3: x0000 \n",
      "R4: x0000 R5: x0000 R6: x0000 R7: x0000 \n"
     ]
    }
   ],
   "source": [
    "%step"
   ]
  },
  {
   "cell_type": "code",
   "execution_count": 6,
   "metadata": {
    "collapsed": false
   },
   "outputs": [
    {
     "name": "stdout",
     "output_type": "stream",
     "text": [
      "\n",
      "============================================================\n",
      "Registers:\n",
      "============================================================\n",
      "PC: x048E\n",
      "N: 0 Z: 0 P: 1 \n",
      "R0: x0004 R1: x0005 R2: x0009 R3: x0000 \n",
      "R4: x0000 R5: x0000 R6: x0000 R7: x3005 \n",
      "============================================================\n",
      "Computation SUSPENDED\n",
      "============================================================\n",
      "Instructions: 5\n",
      "Cycles: 44 (0.000022 milliseconds)\n"
     ]
    }
   ],
   "source": [
    "%cont"
   ]
  },
  {
   "cell_type": "code",
   "execution_count": 12,
   "metadata": {
    "collapsed": false
   },
   "outputs": [
    {
     "name": "stdout",
     "output_type": "stream",
     "text": [
      "\n",
      "============================================================\n",
      "Registers:\n",
      "============================================================\n",
      "PC: x048E\n",
      "N: 0 Z: 0 P: 1 \n",
      "R0: x0004 R1: x0005 R2: x0009 R3: x0000 \n",
      "R4: x0000 R5: x0000 R6: x0000 R7: x3005 \n",
      "============================================================\n",
      "Computation completed\n",
      "============================================================\n",
      "Instructions: 5\n",
      "Cycles: 44 (0.000022 milliseconds)\n"
     ]
    }
   ],
   "source": [
    "%exe"
   ]
  },
  {
   "cell_type": "code",
   "execution_count": 7,
   "metadata": {
    "collapsed": false,
    "scrolled": true
   },
   "outputs": [
    {
     "name": "stdout",
     "output_type": "stream",
     "text": [
      "\n",
      "==================================================\n",
      "Registers:\n",
      "==================================================\n",
      "PC: x0000\n",
      "N: 0 Z: 1 P: 0 \n",
      "R0: x0000 R1: x0000 R2: x0000 R3: x0000 \n",
      "R4: x0000 R5: x0000 R6: x0000 R7: x0000 \n"
     ]
    }
   ],
   "source": [
    "%pc 0"
   ]
  },
  {
   "cell_type": "code",
   "execution_count": 9,
   "metadata": {
    "collapsed": false
   },
   "outputs": [
    {
     "name": "stderr",
     "output_type": "stream",
     "text": [
      "Error: unknown command: %cont\n"
     ]
    }
   ],
   "source": [
    "%cont"
   ]
  },
  {
   "cell_type": "code",
   "execution_count": 4,
   "metadata": {
    "collapsed": false
   },
   "outputs": [
    {
     "name": "stdout",
     "output_type": "stream",
     "text": [
      "\n",
      "==================================================\n",
      "Registers:\n",
      "==================================================\n",
      "PC: x3000\n",
      "N: 0 Z: 0 P: 1 \n",
      "R0: x0004 R1: x0005 R2: x0009 R3: x0000 \n",
      "R4: x0000 R5: x0000 R6: x0000 R7: x3005 \n"
     ]
    }
   ],
   "source": [
    "%pc x3000"
   ]
  },
  {
   "cell_type": "code",
   "execution_count": 5,
   "metadata": {
    "collapsed": false
   },
   "outputs": [
    {
     "name": "stderr",
     "output_type": "stream",
     "text": [
      "\n",
      "Assemble error\n",
      "    memory x048D\n",
      "\n",
      "Invalid label \"2353\" in source line \"2353\", line #: 9\n",
      "\n"
     ]
    }
   ],
   "source": [
    "2353"
   ]
  },
  {
   "cell_type": "code",
   "execution_count": 6,
   "metadata": {
    "collapsed": false
   },
   "outputs": [
    {
     "name": "stdout",
     "output_type": "stream",
     "text": [
      "==================================================\n",
      "Memory, disassembled:\n",
      "==================================================\n",
      "           x3000: x2004  LD R0, x3005                              [line: 1]\n",
      "           x3001: x2204  LD R1, x3006                              [line: 2]\n",
      "           x3002: x1440  ADD R2, R1, R0                            [line: 3]\n",
      "           x3003: x3403  ST R2, x3007                              [line: 4]\n",
      "           x3004: xF025  HALT                                      [line: 5]\n",
      "           x3005: x0004  BR x300A (or 4)                           [line: 6]\n",
      "           x3006: x0005  BR x300C (or 5)                           [line: 7]\n",
      "           x3007: x0009  BR x3011 (or 9)                           [line: 8]\n",
      "\n",
      "==================================================\n",
      "Registers:\n",
      "==================================================\n",
      "PC: x048F\n",
      "N: 0 Z: 0 P: 1 \n",
      "R0: x0004 R1: x0005 R2: x0009 R3: x0000 \n",
      "R4: x0000 R5: x0000 R6: x0000 R7: x3005 \n"
     ]
    }
   ],
   "source": [
    "1"
   ]
  },
  {
   "cell_type": "code",
   "execution_count": 7,
   "metadata": {
    "collapsed": false
   },
   "outputs": [
    {
     "name": "stderr",
     "output_type": "stream",
     "text": [
      "\n",
      "Assemble error\n",
      "    line 10\n",
      "\n",
      "Not an instruction: \"MY BABY GOT BACK\"\n",
      "\n"
     ]
    }
   ],
   "source": [
    "MY BABY GOT BACK"
   ]
  },
  {
   "cell_type": "code",
   "execution_count": 8,
   "metadata": {
    "collapsed": false
   },
   "outputs": [
    {
     "name": "stderr",
     "output_type": "stream",
     "text": [
      "\n",
      "Assemble error\n",
      "    line 10\n",
      "\n",
      "Invalid label \"2\" in source line \"2\", line #: 10\n",
      "\n"
     ]
    }
   ],
   "source": [
    "2"
   ]
  },
  {
   "cell_type": "code",
   "execution_count": 9,
   "metadata": {
    "collapsed": true
   },
   "outputs": [],
   "source": [
    "?"
   ]
  },
  {
   "cell_type": "code",
   "execution_count": 10,
   "metadata": {
    "collapsed": false
   },
   "outputs": [
    {
     "name": "stdout",
     "output_type": "stream",
     "text": [
      "    PC <= x0490\n",
      "(6/53) PUTS [10] (x0490*: xF022)\n",
      "    R7 <= x0490\n",
      "    PC <= x0456\n",
      "\n",
      "==================================================\n",
      "Registers:\n",
      "==================================================\n",
      "PC: x0456\n",
      "N: 0 Z: 0 P: 1 \n",
      "R0: x0004 R1: x0005 R2: x0009 R3: x0000 \n",
      "R4: x0000 R5: x0000 R6: x0000 R7: x0490 \n"
     ]
    }
   ],
   "source": [
    "%step"
   ]
  },
  {
   "cell_type": "code",
   "execution_count": 1,
   "metadata": {
    "collapsed": false
   },
   "outputs": [
    {
     "name": "stdout",
     "output_type": "stream",
     "text": [
      "============================================================\n",
      "Memory disassembled:\n",
      "============================================================\n",
      "           x3000: xE002  LEA R0, HELLO                             [line: 1]\n",
      "           x3001: xF022  PUTS                                      [line: 2]\n",
      "           x3002: xF025  HALT                                      [line: 3]\n",
      "HELLO:     x3003: x0048  BR x304C (or 72, 'H')                     [line: 4]\n",
      "\n",
      "============================================================\n",
      "Registers:\n",
      "============================================================\n",
      "PC: x3012\n",
      "N: 0 Z: 1 P: 0 \n",
      "R0: x0000 R1: x0000 R2: x0000 R3: x0000 \n",
      "R4: x0000 R5: x0000 R6: x0000 R7: x0000 \n"
     ]
    }
   ],
   "source": [
    ".ORIG x3000\n",
    "    LEA R0, HELLO\n",
    "    PUTS\n",
    "    HALT\n",
    "HELLO .STRINGZ \"Hello, World!\\n\"\n",
    ".END"
   ]
  },
  {
   "cell_type": "code",
   "execution_count": 2,
   "metadata": {
    "collapsed": false
   },
   "outputs": [
    {
     "name": "stdout",
     "output_type": "stream",
     "text": [
      "Hello, World!\n",
      "\n",
      "============================================================\n",
      "Registers:\n",
      "============================================================\n",
      "PC: x048E\n",
      "N: 0 Z: 0 P: 1 \n",
      "R0: x3003 R1: x0000 R2: x0000 R3: x0000 \n",
      "R4: x0000 R5: x0000 R6: x0000 R7: x3003 \n",
      "============================================================\n",
      "Computation completed\n",
      "============================================================\n",
      "Instructions: 167\n",
      "Cycles: 1382 (0.000691 milliseconds)\n"
     ]
    }
   ],
   "source": [
    "%exe"
   ]
  },
  {
   "cell_type": "code",
   "execution_count": 3,
   "metadata": {
    "collapsed": false
   },
   "outputs": [
    {
     "name": "stdout",
     "output_type": "stream",
     "text": [
      "\n",
      "============================================================\n",
      "Registers:\n",
      "============================================================\n",
      "PC: x3000\n",
      "N: 0 Z: 0 P: 1 \n",
      "R0: x3003 R1: x0000 R2: x0000 R3: x0000 \n",
      "R4: x0000 R5: x0000 R6: x0000 R7: x3003 \n"
     ]
    }
   ],
   "source": [
    "%pc x3000"
   ]
  },
  {
   "cell_type": "code",
   "execution_count": 4,
   "metadata": {
    "collapsed": false
   },
   "outputs": [
    {
     "name": "stdout",
     "output_type": "stream",
     "text": [
      "============================================================\n",
      "Stepping...  => read, <= write, (Instructions/Cycles):\n",
      "============================================================\n",
      "    PC <= x3001\n",
      "(1/6) LEA R0, HELLO [1] (x3001*: xE002)\n",
      "    R0 <= x3003\n",
      "    NZP <= (0, 0, 1)\n",
      "\n",
      "============================================================\n",
      "Registers:\n",
      "============================================================\n",
      "PC: x3001\n",
      "N: 0 Z: 0 P: 1 \n",
      "R0: x3003 R1: x0000 R2: x0000 R3: x0000 \n",
      "R4: x0000 R5: x0000 R6: x0000 R7: x3003 \n"
     ]
    }
   ],
   "source": [
    "%step"
   ]
  },
  {
   "cell_type": "code",
   "execution_count": 5,
   "metadata": {
    "collapsed": false
   },
   "outputs": [
    {
     "name": "stdout",
     "output_type": "stream",
     "text": [
      "============================================================\n",
      "Stepping...  => read, <= write, (Instructions/Cycles):\n",
      "============================================================\n",
      "    PC <= x3002\n",
      "(2/15) PUTS [2] (x3002*: xF022)\n",
      "    R7 <= x3002\n",
      "    PC <= x0456\n",
      "\n",
      "============================================================\n",
      "Registers:\n",
      "============================================================\n",
      "PC: x0456\n",
      "N: 0 Z: 0 P: 1 \n",
      "R0: x3003 R1: x0000 R2: x0000 R3: x0000 \n",
      "R4: x0000 R5: x0000 R6: x0000 R7: x3002 \n"
     ]
    }
   ],
   "source": [
    "%step"
   ]
  },
  {
   "cell_type": "code",
   "execution_count": 6,
   "metadata": {
    "collapsed": false
   },
   "outputs": [
    {
     "name": "stdout",
     "output_type": "stream",
     "text": [
      "Hello, World!\n",
      "\n",
      "============================================================\n",
      "Registers:\n",
      "============================================================\n",
      "PC: x048E\n",
      "N: 0 Z: 0 P: 1 \n",
      "R0: x3003 R1: x0000 R2: x0000 R3: x0000 \n",
      "R4: x0000 R5: x0000 R6: x0000 R7: x3003 \n",
      "============================================================\n",
      "Computation completed\n",
      "============================================================\n",
      "Instructions: 167\n",
      "Cycles: 1382 (0.000691 milliseconds)\n"
     ]
    }
   ],
   "source": [
    "%cont"
   ]
  },
  {
   "cell_type": "code",
   "execution_count": null,
   "metadata": {
    "collapsed": true
   },
   "outputs": [],
   "source": []
  }
 ],
 "metadata": {
  "kernelspec": {
   "display_name": "Calysto LC3",
   "language": "asm",
   "name": "calysto_lc3"
  },
  "language_info": {
   "file_extension": ".asm",
   "mimetype": "text/x-gas",
   "name": "gas"
  }
 },
 "nbformat": 4,
 "nbformat_minor": 0
}
